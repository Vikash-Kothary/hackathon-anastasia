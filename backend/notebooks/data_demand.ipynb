{
 "cells": [
  {
   "cell_type": "code",
   "execution_count": 24,
   "metadata": {},
   "outputs": [
    {
     "name": "stdout",
     "output_type": "stream",
     "text": [
      "Collecting git+https://github.com/SheffieldSolar/PV_Live-API\n",
      "  Cloning https://github.com/SheffieldSolar/PV_Live-API to /tmp/pip-req-build-ia6t6ko3\n",
      "Requirement already satisfied (use --upgrade to upgrade): pvlive-api==0.3 from git+https://github.com/SheffieldSolar/PV_Live-API in /home/tejan/PycharmProjects/anastasia/venv/lib/python3.6/site-packages\n",
      "Requirement already satisfied: requests in /home/tejan/PycharmProjects/anastasia/venv/lib/python3.6/site-packages (from pvlive-api==0.3) (2.22.0)\n",
      "Requirement already satisfied: pytz in /home/tejan/PycharmProjects/anastasia/venv/lib/python3.6/site-packages (from pvlive-api==0.3) (2019.1)\n",
      "Requirement already satisfied: urllib3!=1.25.0,!=1.25.1,<1.26,>=1.21.1 in /home/tejan/PycharmProjects/anastasia/venv/lib/python3.6/site-packages (from requests->pvlive-api==0.3) (1.25.2)\n",
      "Requirement already satisfied: certifi>=2017.4.17 in /home/tejan/PycharmProjects/anastasia/venv/lib/python3.6/site-packages (from requests->pvlive-api==0.3) (2019.3.9)\n",
      "Requirement already satisfied: idna<2.9,>=2.5 in /home/tejan/PycharmProjects/anastasia/venv/lib/python3.6/site-packages (from requests->pvlive-api==0.3) (2.8)\n",
      "Requirement already satisfied: chardet<3.1.0,>=3.0.2 in /home/tejan/PycharmProjects/anastasia/venv/lib/python3.6/site-packages (from requests->pvlive-api==0.3) (3.0.4)\n",
      "\u001b[33mYou are using pip version 10.0.1, however version 19.1.1 is available.\n",
      "You should consider upgrading via the 'pip install --upgrade pip' command.\u001b[0m\n"
     ]
    }
   ],
   "source": [
    "!pip install git+https://github.com/SheffieldSolar/PV_Live-API"
   ]
  },
  {
   "cell_type": "code",
   "execution_count": null,
   "metadata": {},
   "outputs": [],
   "source": [
    "import json\n",
    "import requests\n",
    "import pandas as pd\n",
    "import numpy as np\n",
    "from pprint import pprint\n",
    "from datetime import datetime, date"
   ]
  },
  {
   "cell_type": "code",
   "execution_count": 26,
   "metadata": {
    "scrolled": true
   },
   "outputs": [],
   "source": [
    "df = pd.read_csv('data/consumption2017-P2.csv')\n",
    "consumption_df = df[list(map(lambda x: len(x)>4,df.POSTCODE))]"
   ]
  },
  {
   "cell_type": "code",
   "execution_count": 27,
   "metadata": {},
   "outputs": [
    {
     "name": "stdout",
     "output_type": "stream",
     "text": [
      "{'query': 'LA6 3GQ', 'result': None}\n",
      "{'query': 'LA9 4', 'result': None}\n",
      "{'query': 'LE1 1LF', 'result': None}\n",
      "{'query': 'LE1 5NE', 'result': None}\n",
      "{'query': 'LE1 7GP', 'result': None}\n",
      "{'query': 'LE12 8ZZ', 'result': None}\n",
      "{'query': 'LE12 B5X', 'result': None}\n",
      "{'query': 'LE15 0OO', 'result': None}\n",
      "{'query': 'LE15 7AL', 'result': None}\n",
      "{'query': 'LE15 7E', 'result': None}\n",
      "{'query': 'LE17 4HA', 'result': None}\n",
      "{'query': 'LE2 0OO', 'result': None}\n",
      "{'query': 'LE2 1EN', 'result': None}\n",
      "{'query': 'LE3 1QS', 'result': None}\n",
      "{'query': 'LE3 3LT', 'result': None}\n"
     ]
    }
   ],
   "source": [
    "all_postcodes = []\n",
    "for i in range(100):\n",
    "    consumption_postcodes = list(consumption_df.iloc[100*i:100*i+100]['POSTCODE'])\n",
    "    assert consumption_postcodes is not None\n",
    "    payload = dict(postcodes=consumption_postcodes)\n",
    "    \n",
    "    assert payload is not None\n",
    "    result = requests.post('https://api.postcodes.io/postcodes', data=payload).json()\n",
    "    assert result['status'] is 200\n",
    "    results = result['result']\n",
    "    postcodes = []\n",
    "    for result in results:\n",
    "        if result['result'] is None:\n",
    "            print(result)\n",
    "            continue\n",
    "        postcodes.append({'POSTCODE':result['result']['postcode'],'Longitude':result['result']['longitude'],'Latitude':result['result']['latitude']})\n",
    "    \n",
    "    all_postcodes.append(list(postcodes))"
   ]
  },
  {
   "cell_type": "code",
   "execution_count": 28,
   "metadata": {},
   "outputs": [],
   "source": [
    "all_postcodes = sum(all_postcodes,[])"
   ]
  },
  {
   "cell_type": "code",
   "execution_count": 29,
   "metadata": {},
   "outputs": [],
   "source": [
    "postcodes_df = pd.DataFrame(all_postcodes)"
   ]
  },
  {
   "cell_type": "code",
   "execution_count": 30,
   "metadata": {},
   "outputs": [],
   "source": [
    "postcodes_df = df.set_index('POSTCODE').join(postcodes_df.set_index('POSTCODE')).dropna()"
   ]
  },
  {
   "cell_type": "code",
   "execution_count": 31,
   "metadata": {},
   "outputs": [],
   "source": [
    "long_to_X = (np.array(postcodes_df.Longitude)+8)//(10/90)\n",
    "lat_to_Y = (np.array(postcodes_df.Latitude)-49)//(10/72)\n",
    "tiles_data = list(zip(long_to_X,lat_to_Y))\n",
    "tiles_df = pd.DataFrame(tiles_data, columns=['X','Y'], index=postcodes_df.index, dtype='int64')\n"
   ]
  },
  {
   "cell_type": "code",
   "execution_count": 32,
   "metadata": {},
   "outputs": [],
   "source": [
    "x_min = 990\n",
    "y_min = 660"
   ]
  },
  {
   "cell_type": "code",
   "execution_count": 33,
   "metadata": {},
   "outputs": [],
   "source": [
    "tiles_df = postcodes_df.join(tiles_df)"
   ]
  },
  {
   "cell_type": "code",
   "execution_count": 34,
   "metadata": {},
   "outputs": [],
   "source": [
    "tiles_df = tiles_df.dropna()\n",
    "tiles_df = tiles_df.reset_index()"
   ]
  },
  {
   "cell_type": "code",
   "execution_count": 35,
   "metadata": {},
   "outputs": [],
   "source": [
    "#tiles_df.to_json('data/consumption-P2.json')"
   ]
  },
  {
   "cell_type": "code",
   "execution_count": 36,
   "metadata": {},
   "outputs": [
    {
     "data": {
      "text/plain": [
       "39"
      ]
     },
     "execution_count": 36,
     "metadata": {},
     "output_type": "execute_result"
    }
   ],
   "source": [
    "max(tiles_df.Y)"
   ]
  },
  {
   "cell_type": "code",
   "execution_count": 48,
   "metadata": {},
   "outputs": [],
   "source": [
    "tiles_df = pd.read_json('data/consumption-P1.json')"
   ]
  },
  {
   "cell_type": "code",
   "execution_count": 49,
   "metadata": {},
   "outputs": [
    {
     "data": {
      "text/html": [
       "<div>\n",
       "<style scoped>\n",
       "    .dataframe tbody tr th:only-of-type {\n",
       "        vertical-align: middle;\n",
       "    }\n",
       "\n",
       "    .dataframe tbody tr th {\n",
       "        vertical-align: top;\n",
       "    }\n",
       "\n",
       "    .dataframe thead th {\n",
       "        text-align: right;\n",
       "    }\n",
       "</style>\n",
       "<table border=\"1\" class=\"dataframe\">\n",
       "  <thead>\n",
       "    <tr style=\"text-align: right;\">\n",
       "      <th></th>\n",
       "      <th>POSTCODE</th>\n",
       "      <th>Number of meters</th>\n",
       "      <th>Consumption (kWh)</th>\n",
       "      <th>Mean consumption (kWh)</th>\n",
       "      <th>Median consumption (kWh)</th>\n",
       "      <th>Latitude</th>\n",
       "      <th>Longitude</th>\n",
       "      <th>X</th>\n",
       "      <th>Y</th>\n",
       "    </tr>\n",
       "  </thead>\n",
       "  <tbody>\n",
       "    <tr>\n",
       "      <th>99995</th>\n",
       "      <td>BN3 1EB</td>\n",
       "      <td>13</td>\n",
       "      <td>37534</td>\n",
       "      <td>2887</td>\n",
       "      <td>2280</td>\n",
       "      <td>50.825389</td>\n",
       "      <td>-0.158406</td>\n",
       "      <td>35</td>\n",
       "      <td>6</td>\n",
       "    </tr>\n",
       "    <tr>\n",
       "      <th>99996</th>\n",
       "      <td>BN3 1ED</td>\n",
       "      <td>39</td>\n",
       "      <td>102356</td>\n",
       "      <td>2625</td>\n",
       "      <td>2238</td>\n",
       "      <td>50.825306</td>\n",
       "      <td>-0.159361</td>\n",
       "      <td>35</td>\n",
       "      <td>6</td>\n",
       "    </tr>\n",
       "    <tr>\n",
       "      <th>99997</th>\n",
       "      <td>BN3 1EE</td>\n",
       "      <td>54</td>\n",
       "      <td>203331</td>\n",
       "      <td>3765</td>\n",
       "      <td>2633</td>\n",
       "      <td>50.824638</td>\n",
       "      <td>-0.159827</td>\n",
       "      <td>35</td>\n",
       "      <td>6</td>\n",
       "    </tr>\n",
       "    <tr>\n",
       "      <th>99998</th>\n",
       "      <td>BN3 1EF</td>\n",
       "      <td>54</td>\n",
       "      <td>132793</td>\n",
       "      <td>2459</td>\n",
       "      <td>2288</td>\n",
       "      <td>50.823996</td>\n",
       "      <td>-0.160136</td>\n",
       "      <td>35</td>\n",
       "      <td>6</td>\n",
       "    </tr>\n",
       "    <tr>\n",
       "      <th>99999</th>\n",
       "      <td>BN3 1EG</td>\n",
       "      <td>39</td>\n",
       "      <td>127016</td>\n",
       "      <td>3257</td>\n",
       "      <td>2142</td>\n",
       "      <td>50.823718</td>\n",
       "      <td>-0.158287</td>\n",
       "      <td>35</td>\n",
       "      <td>6</td>\n",
       "    </tr>\n",
       "  </tbody>\n",
       "</table>\n",
       "</div>"
      ],
      "text/plain": [
       "      POSTCODE  Number of meters  Consumption (kWh)  Mean consumption (kWh)  \\\n",
       "99995  BN3 1EB                13              37534                    2887   \n",
       "99996  BN3 1ED                39             102356                    2625   \n",
       "99997  BN3 1EE                54             203331                    3765   \n",
       "99998  BN3 1EF                54             132793                    2459   \n",
       "99999  BN3 1EG                39             127016                    3257   \n",
       "\n",
       "       Median consumption (kWh)   Latitude  Longitude   X  Y  \n",
       "99995                      2280  50.825389  -0.158406  35  6  \n",
       "99996                      2238  50.825306  -0.159361  35  6  \n",
       "99997                      2633  50.824638  -0.159827  35  6  \n",
       "99998                      2288  50.823996  -0.160136  35  6  \n",
       "99999                      2142  50.823718  -0.158287  35  6  "
      ]
     },
     "execution_count": 49,
     "metadata": {},
     "output_type": "execute_result"
    }
   ],
   "source": [
    "tiles_df.tail()"
   ]
  }
 ],
 "metadata": {
  "kernelspec": {
   "display_name": "Python 3",
   "language": "python",
   "name": "python3"
  },
  "language_info": {
   "codemirror_mode": {
    "name": "ipython",
    "version": 3
   },
   "file_extension": ".py",
   "mimetype": "text/x-python",
   "name": "python",
   "nbconvert_exporter": "python",
   "pygments_lexer": "ipython3",
   "version": "3.6.7"
  }
 },
 "nbformat": 4,
 "nbformat_minor": 2
}
