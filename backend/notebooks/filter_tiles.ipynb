{
 "cells": [
  {
   "cell_type": "markdown",
   "metadata": {},
   "source": [
    "# Tiles Filters"
   ]
  },
  {
   "cell_type": "code",
   "execution_count": 5,
   "metadata": {
    "scrolled": true
   },
   "outputs": [],
   "source": [
    "import math\n",
    "import numpy as np\n",
    "import pandas as pd\n",
    "import matplotlib.pyplot as  plt\n",
    "from utils import mercator\n",
    "from pprint import pprint\n",
    "#from mpl_toolkits.basemap import Basemap\n",
    "import json"
   ]
  },
  {
   "cell_type": "code",
   "execution_count": null,
   "metadata": {},
   "outputs": [],
   "source": []
  },
  {
   "cell_type": "code",
   "execution_count": null,
   "metadata": {},
   "outputs": [
    {
     "name": "stdout",
     "output_type": "stream",
     "text": [
      " * Serving Flask app \"__main__\" (lazy loading)\n",
      " * Environment: production\n",
      "   WARNING: Do not use the development server in a production environment.\n",
      "   Use a production WSGI server instead.\n",
      " * Debug mode: off\n"
     ]
    },
    {
     "name": "stderr",
     "output_type": "stream",
     "text": [
      " * Running on http://0.0.0.0:5000/ (Press CTRL+C to quit)\n",
      "127.0.0.1 - - [18/May/2019 13:46:51] \"GET /tiles.json HTTP/1.1\" 200 -\n",
      "127.0.0.1 - - [18/May/2019 13:46:52] \"GET /tiles.json HTTP/1.1\" 200 -\n"
     ]
    }
   ],
   "source": [
    "from flask import Flask, jsonify\n",
    "\n",
    "app = Flask(__name__)\n",
    "\n",
    "@app.route('/tiles.json')\n",
    "def api():\n",
    "    \n",
    "    with open('data/data.json') as file:\n",
    "        data = json.load(file)\n",
    "    data = str(data)\n",
    "    return jsonify(dict(tiles=data))\n",
    "\n",
    "app.run(host='0.0.0.0', port='5000')"
   ]
  },
  {
   "cell_type": "code",
   "execution_count": null,
   "metadata": {},
   "outputs": [],
   "source": [
    "# Utils\n",
    "def pprint_json(data):\n",
    "    pprint(data)"
   ]
  },
  {
   "cell_type": "code",
   "execution_count": null,
   "metadata": {},
   "outputs": [],
   "source": [
    "# BIDMAS FTW.\n",
    "# TODO: Inclusive\n",
    "x_min = 1980\n",
    "x_max = 2070\n",
    "y_min = 1320\n",
    "y_max = 1396\n",
    "[x_min, x_max, y_min, y_max]"
   ]
  },
  {
   "cell_type": "markdown",
   "metadata": {},
   "source": [
    "```javascript\n",
    "function getTileBounds(global_x, gloabl_y, zoom_level) {\n",
    "    let s = 256 / Math.pow(2, z)\n",
    "    let nw = Mercator.fromPointToLatLng({x: s*x, y: s*y})\n",
    "    let se = Mercator.fromPointToLatLng({x: s*x + s, y: s*y + s})\n",
    "    return window.L.latLngBounds(\n",
    "        window.L.latLng(nw.lat, nw.lng),\n",
    "        window.L.latLng(,se.lat, se.lng)\n",
    "    )\n",
    "}\n",
    "```"
   ]
  },
  {
   "cell_type": "code",
   "execution_count": null,
   "metadata": {},
   "outputs": [],
   "source": [
    "def get_tile_bounds(global_x, global_y, zoom_level):\n",
    "    s = 256 / math.pow(2, zoom_level)\n",
    "    corner_nw = mercator.get_lat_lng_tile(global_x, global_y, zoom_level)\n",
    "get_tile_bounds(x_min, y_min, 10)"
   ]
  },
  {
   "cell_type": "code",
   "execution_count": null,
   "metadata": {},
   "outputs": [],
   "source": [
    "# Initial Blank Tiles for the UK\n",
    "def get_blank_tiles():\n",
    "    k = 0\n",
    "    all_tiles = dict()\n",
    "    for i in range(y_min, y_max):\n",
    "        for j in range(x_min, x_max):\n",
    "            all_tiles[k] = dict()\n",
    "            all_tiles[k]['location'] = (i, j)\n",
    "            k+=1\n",
    "    return all_tiles\n",
    "all_tiles = get_blank_tiles()\n",
    "#pprint_json(all_tiles)\n",
    "#assert len(all_titles) is 6480"
   ]
  },
  {
   "cell_type": "code",
   "execution_count": null,
   "metadata": {},
   "outputs": [],
   "source": [
    "# Filter out blank tiles\n",
    "## Ocean\n",
    "\n",
    "## Cities"
   ]
  },
  {
   "cell_type": "code",
   "execution_count": null,
   "metadata": {},
   "outputs": [],
   "source": [
    "# Sunlight\n",
    "demand_df = pd.read_json('data/consumption-P1.json')\n",
    "for tile in demand_df:\n",
    "    tile_num = tile['Y']*x_max+tile['X']\n",
    "    break"
   ]
  },
  {
   "cell_type": "code",
   "execution_count": null,
   "metadata": {},
   "outputs": [],
   "source": []
  },
  {
   "cell_type": "code",
   "execution_count": null,
   "metadata": {},
   "outputs": [],
   "source": [
    "# Priorities\n",
    "## Farm Land"
   ]
  },
  {
   "cell_type": "code",
   "execution_count": null,
   "metadata": {},
   "outputs": [],
   "source": [
    "# Costs\n",
    "## Land Prices\n",
    "\n",
    "## Slider to allow you to set Rent Prices\n",
    "\n",
    "## Calculation to Pay Back"
   ]
  },
  {
   "cell_type": "code",
   "execution_count": null,
   "metadata": {},
   "outputs": [],
   "source": [
    "# Visualise tiles\n",
    "\n"
   ]
  },
  {
   "cell_type": "code",
   "execution_count": null,
   "metadata": {},
   "outputs": [],
   "source": [
    "# Array with two arrays of two floats. X,Y from top left. X,Y from bottom right\n",
    "# Bounds"
   ]
  }
 ],
 "metadata": {
  "kernelspec": {
   "display_name": "Python 3",
   "language": "python",
   "name": "python3"
  },
  "language_info": {
   "codemirror_mode": {
    "name": "ipython",
    "version": 3
   },
   "file_extension": ".py",
   "mimetype": "text/x-python",
   "name": "python",
   "nbconvert_exporter": "python",
   "pygments_lexer": "ipython3",
   "version": "3.7.3"
  }
 },
 "nbformat": 4,
 "nbformat_minor": 2
}
