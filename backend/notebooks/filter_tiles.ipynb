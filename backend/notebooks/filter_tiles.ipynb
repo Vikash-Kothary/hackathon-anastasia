{
 "cells": [
  {
   "cell_type": "markdown",
   "metadata": {},
   "source": [
    "# Tiles Filters"
   ]
  },
  {
   "cell_type": "code",
   "execution_count": 1,
   "metadata": {
    "scrolled": true
   },
   "outputs": [],
   "source": [
    "import math\n",
    "import numpy as np\n",
    "import pandas as pd\n",
    "import matplotlib.pyplot as  plt\n",
    "from pprint import pprint\n",
    "import json"
   ]
  },
  {
   "cell_type": "code",
   "execution_count": 8,
   "metadata": {},
   "outputs": [
    {
     "ename": "ModuleNotFoundError",
     "evalue": "No module named 'flask'",
     "output_type": "error",
     "traceback": [
      "\u001b[0;31m---------------------------------------------------------------------------\u001b[0m",
      "\u001b[0;31mModuleNotFoundError\u001b[0m                       Traceback (most recent call last)",
      "\u001b[0;32m<ipython-input-8-c55b14c3e538>\u001b[0m in \u001b[0;36m<module>\u001b[0;34m\u001b[0m\n\u001b[0;32m----> 1\u001b[0;31m \u001b[0;32mfrom\u001b[0m \u001b[0mflask\u001b[0m \u001b[0;32mimport\u001b[0m \u001b[0mFlask\u001b[0m\u001b[0;34m,\u001b[0m \u001b[0mjsonify\u001b[0m\u001b[0;34m\u001b[0m\u001b[0;34m\u001b[0m\u001b[0m\n\u001b[0m\u001b[1;32m      2\u001b[0m \u001b[0;34m\u001b[0m\u001b[0m\n\u001b[1;32m      3\u001b[0m \u001b[0mapp\u001b[0m \u001b[0;34m=\u001b[0m \u001b[0mFlask\u001b[0m\u001b[0;34m(\u001b[0m\u001b[0m__name__\u001b[0m\u001b[0;34m)\u001b[0m\u001b[0;34m\u001b[0m\u001b[0;34m\u001b[0m\u001b[0m\n\u001b[1;32m      4\u001b[0m \u001b[0;34m\u001b[0m\u001b[0m\n\u001b[1;32m      5\u001b[0m \u001b[0;34m@\u001b[0m\u001b[0mapp\u001b[0m\u001b[0;34m.\u001b[0m\u001b[0mroute\u001b[0m\u001b[0;34m(\u001b[0m\u001b[0;34m'/tiles.json'\u001b[0m\u001b[0;34m)\u001b[0m\u001b[0;34m\u001b[0m\u001b[0;34m\u001b[0m\u001b[0m\n",
      "\u001b[0;31mModuleNotFoundError\u001b[0m: No module named 'flask'"
     ]
    }
   ],
   "source": [
    "from flask import Flask, jsonify\n",
    "\n",
    "app = Flask(__name__)\n",
    "\n",
    "@app.route('/tiles.json')\n",
    "def api():\n",
    "    \n",
    "    with open('data/data.json') as file:\n",
    "        data = json.load(file)\n",
    "    data = str(data)\n",
    "    return jsonify(dict(tiles=data))\n",
    "\n",
    "app.run(host='0.0.0.0', port='5000')"
   ]
  },
  {
   "cell_type": "code",
   "execution_count": 2,
   "metadata": {},
   "outputs": [],
   "source": [
    "# Utils\n",
    "def pprint_json(data):\n",
    "    pprint(data)"
   ]
  },
  {
   "cell_type": "code",
   "execution_count": 3,
   "metadata": {},
   "outputs": [],
   "source": [
    "def get_score(x,y):\n",
    "    score = 0\n",
    "    return score"
   ]
  },
  {
   "cell_type": "code",
   "execution_count": 4,
   "metadata": {},
   "outputs": [
    {
     "data": {
      "text/plain": [
       "{'x_max': 2070, 'x_min': 1980, 'y_max': 1396, 'y_min': 1320}"
      ]
     },
     "execution_count": 4,
     "metadata": {},
     "output_type": "execute_result"
    }
   ],
   "source": [
    "# BIDMAS FTW.\n",
    "# TODO: Inclusive\n",
    "x_min = 1980\n",
    "x_max = 2070\n",
    "y_min = 1320\n",
    "y_max = 1396\n",
    "{'x_min':x_min, 'x_max':x_max,  'y_min':y_min, 'y_max':y_max}"
   ]
  },
  {
   "cell_type": "code",
   "execution_count": 5,
   "metadata": {},
   "outputs": [],
   "source": [
    "def tile_to_long(x,x_min):\n",
    "    return (x- x_min)*(10/90) - 8 "
   ]
  },
  {
   "cell_type": "code",
   "execution_count": 6,
   "metadata": {},
   "outputs": [],
   "source": [
    "def tile_to_long(y,y_min):\n",
    "    return (y-y_min)*(10/72) + 49 "
   ]
  },
  {
   "cell_type": "code",
   "execution_count": 7,
   "metadata": {},
   "outputs": [
    {
     "data": {
      "text/plain": [
       "0.1111111111111111"
      ]
     },
     "execution_count": 7,
     "metadata": {},
     "output_type": "execute_result"
    }
   ],
   "source": [
    "num_x = x_max - x_min\n",
    "num_y = y_max - y_min\n",
    "long_interval = lat_interval = 10\n",
    "lat_width = lat_interval/num_y\n",
    "long_width = long_interval/num_x\n",
    "long_width"
   ]
  },
  {
   "cell_type": "markdown",
   "metadata": {},
   "source": [
    "```javascript\n",
    "function getTileBounds(global_x, gloabl_y, zoom_level) {\n",
    "    let s = 256 / Math.pow(2, z)\n",
    "    let nw = Mercator.fromPointToLatLng({x: s*x, y: s*y})\n",
    "    let se = Mercator.fromPointToLatLng({x: s*x + s, y: s*y + s})\n",
    "    return window.L.latLngBounds(\n",
    "        window.L.latLng(nw.lat, nw.lng),\n",
    "        window.L.latLng(,se.lat, se.lng)\n",
    "    )\n",
    "}\n",
    "```"
   ]
  },
  {
   "cell_type": "code",
   "execution_count": 8,
   "metadata": {},
   "outputs": [
    {
     "data": {
      "text/plain": [
       "{'max': (2, 49), 'min': (-8, 59)}"
      ]
     },
     "execution_count": 8,
     "metadata": {},
     "output_type": "execute_result"
    }
   ],
   "source": [
    "# Initial Blank Tiles for the UK\n",
    "\n",
    "import numpy as np\n",
    "def get_tiles():\n",
    "    k = 0\n",
    "    all_tiles = dict()\n",
    "    all_tiles['region'] = {'min':(-8,59),'max':(2,49)}\n",
    "    for i in range(y_max-y_min, y_max):\n",
    "        for j in range(x_max-x_min, x_max):\n",
    "            all_tiles[k] = dict()\n",
    "            all_tiles[k]['top_left'] = (-8+i*long_width, -8+j*lat_width)\n",
    "            all_tiles[k]['bot_right'] = (49+i*long_width+long_width, 49+j*lat_width+lat_width)\n",
    "            all_tiles[k]['score'] = get_score(i,j)\n",
    "            \n",
    "            k+=1\n",
    "            \n",
    "    return all_tiles\n",
    "all_tiles = get_tiles()\n",
    "\n",
    "all_tiles['region']\n"
   ]
  },
  {
   "cell_type": "code",
   "execution_count": 9,
   "metadata": {},
   "outputs": [
    {
     "data": {
      "text/plain": [
       "'/home/tejan/PycharmProjects/anastasia/backend/notebooks'"
      ]
     },
     "execution_count": 9,
     "metadata": {},
     "output_type": "execute_result"
    }
   ],
   "source": [
    "pwd"
   ]
  },
  {
   "cell_type": "code",
   "execution_count": 10,
   "metadata": {},
   "outputs": [],
   "source": [
    "import json\n",
    "with open('../src/models/tiles.json', 'w') as outfile:\n",
    "    json.dump(all_tiles, outfile)"
   ]
  },
  {
   "cell_type": "code",
   "execution_count": null,
   "metadata": {},
   "outputs": [],
   "source": [
    "# Filter out blank tiles\n",
    "## Ocean\n",
    "\n",
    "## Cities"
   ]
  },
  {
   "cell_type": "code",
   "execution_count": 25,
   "metadata": {},
   "outputs": [
    {
     "name": "stdout",
     "output_type": "stream",
     "text": [
      "        POSTCODE  Number of meters  Consumption (kWh)  Mean consumption (kWh)  \\\n",
      "0       AB10 1AU                27              77026                    2853   \n",
      "1       AB10 1BA                32              52728                    1648   \n",
      "10      AB10 1JX                14              54671                    3905   \n",
      "100     AB10 6BT                15              39023                    2602   \n",
      "1000    AB12 3QR                72             263260                    3656   \n",
      "10000   AB56 1DH                35              90919                    2598   \n",
      "100000   BN3 1EH                60             143509                    2392   \n",
      "100001   BN3 1EJ                51             118450                    2323   \n",
      "100002   BN3 1EL                50             162852                    3257   \n",
      "100003   BN3 1FA                 8              23844                    2981   \n",
      "100004   BN3 1FB                43              93093                    2165   \n",
      "100005   BN3 1FD                13              32560                    2505   \n",
      "100006   BN3 1FE                 9              35516                    3946   \n",
      "100007   BN3 1FF                 8              18801                    2350   \n",
      "100008   BN3 1FG                37             112273                    3034   \n",
      "100009   BN3 1FH                49             111063                    2267   \n",
      "10001   AB56 1DJ                11              60943                    5540   \n",
      "100010   BN3 1FJ                45             149312                    3318   \n",
      "100011   BN3 1FL                30              85382                    2846   \n",
      "100012   BN3 1FN                42             104545                    2489   \n",
      "100013   BN3 1FP                38             108534                    2856   \n",
      "100014   BN3 1FQ                35              58118                    1661   \n",
      "100015   BN3 1FR                44              98330                    2235   \n",
      "100016   BN3 1FS                41              83392                    2034   \n",
      "100017   BN3 1FT                41              96891                    2363   \n",
      "100018   BN3 1FX                10              20833                    2083   \n",
      "100019   BN3 1FY                12              15354                    1279   \n",
      "10002   AB56 1DL                 7              26246                    3749   \n",
      "100020   BN3 1GB                18              38936                    2163   \n",
      "100021   BN3 1GN                10              20468                    2047   \n",
      "...          ...               ...                ...                     ...   \n",
      "99972    BN3 1AE                42             107516                    2560   \n",
      "99973    BN3 1AF                23              66596                    2895   \n",
      "99974    BN3 1AG                11              46647                    4241   \n",
      "99975    BN3 1AH                55             114955                    2090   \n",
      "99976    BN3 1AJ                16              51895                    3243   \n",
      "99977    BN3 1AL                18              37597                    2089   \n",
      "99978    BN3 1AN                62             131876                    2127   \n",
      "99979    BN3 1AQ                65             132277                    2035   \n",
      "9998    AB56 1DF                15              55901                    3727   \n",
      "99980    BN3 1AR                11              28709                    2610   \n",
      "99981    BN3 1AS                32              82710                    2585   \n",
      "99982    BN3 1AT                42             106914                    2546   \n",
      "99983    BN3 1AU                33             127568                    3866   \n",
      "99984    BN3 1AY                22              59233                    2692   \n",
      "99985    BN3 1BA                 7              17294                    2471   \n",
      "99986    BN3 1BG                 7              10744                    1535   \n",
      "99987    BN3 1DE               104             210995                    2029   \n",
      "99988    BN3 1DF               107             237433                    2219   \n",
      "99989    BN3 1DG                95             260664                    2744   \n",
      "9999    AB56 1DG                26             105141                    4044   \n",
      "99990    BN3 1DH               101             271593                    2689   \n",
      "99991    BN3 1DJ                92             178778                    1943   \n",
      "99992    BN3 1DL                84             179683                    2139   \n",
      "99993    BN3 1DN                14              74921                    5352   \n",
      "99994    BN3 1EA                 9              48897                    5433   \n",
      "99995    BN3 1EB                13              37534                    2887   \n",
      "99996    BN3 1ED                39             102356                    2625   \n",
      "99997    BN3 1EE                54             203331                    3765   \n",
      "99998    BN3 1EF                54             132793                    2459   \n",
      "99999    BN3 1EG                39             127016                    3257   \n",
      "\n",
      "        Median consumption (kWh)   Latitude  Longitude   X   Y  \n",
      "0                           1109  57.147740  -2.096323  26  29  \n",
      "1                           1191  57.148807  -2.098706  26  29  \n",
      "10                          2569  57.148177  -2.099878  26  29  \n",
      "100                         1844  57.142317  -2.112512  26  29  \n",
      "1000                        2954  57.097111  -2.082123  26  29  \n",
      "10000                       2426  57.671974  -2.978070  22  31  \n",
      "100000                      1848  50.824416  -0.158274  35   6  \n",
      "100001                      2224  50.824989  -0.158109  35   6  \n",
      "100002                      2410  50.824512  -0.160357  35   6  \n",
      "100003                      2735  50.825885  -0.159409  35   6  \n",
      "100004                      1610  50.826786  -0.159146  35   6  \n",
      "100005                      2400  50.826907  -0.158801  35   6  \n",
      "100006                      3521  50.828314  -0.160194  35   6  \n",
      "100007                      2198  50.827971  -0.160136  35   6  \n",
      "100008                      2066  50.826234  -0.160077  35   6  \n",
      "100009                      1654  50.826877  -0.159753  35   6  \n",
      "10001                       5030  57.672404  -2.978199  22  31  \n",
      "100010                      2718  50.827572  -0.159385  35   6  \n",
      "100011                      1952  50.826412  -0.160538  35   6  \n",
      "100012                      2068  50.827082  -0.160199  35   6  \n",
      "100013                      2076  50.827662  -0.159921  35   6  \n",
      "100014                      1646  50.826749  -0.160795  35   6  \n",
      "100015                      1600  50.827534  -0.160395  35   6  \n",
      "100016                      1425  50.826888  -0.161073  35   6  \n",
      "100017                      1561  50.827701  -0.160729  35   6  \n",
      "100018                      1814  50.827297  -0.158856  35   6  \n",
      "100019                      1079  50.828206  -0.159658  35   6  \n",
      "10002                       2762  57.672892  -2.977826  22  31  \n",
      "100020                      1550  50.828735  -0.162989  35   6  \n",
      "100021                      2265  50.830525  -0.151032  35   6  \n",
      "...                          ...        ...        ...  ..  ..  \n",
      "99972                       1582  50.825193  -0.156199  35   6  \n",
      "99973                       1460  50.825497  -0.158387  35   6  \n",
      "99974                       3703  50.824790  -0.155732  35   6  \n",
      "99975                       1742  50.823997  -0.156799  35   6  \n",
      "99976                       2801  50.824671  -0.156177  35   6  \n",
      "99977                       1637  50.824958  -0.156151  35   6  \n",
      "99978                       1774  50.824817  -0.156895  35   6  \n",
      "99979                       1758  50.823833  -0.157232  35   6  \n",
      "9998                        3894  57.670184  -2.963235  22  31  \n",
      "99980                       2376  50.823452  -0.156423  35   6  \n",
      "99981                       2219  50.825030  -0.157086  35   6  \n",
      "99982                       2053  50.824003  -0.157765  35   6  \n",
      "99983                       3127  50.824170  -0.158042  35   6  \n",
      "99984                       1594  50.824874  -0.156495  35   6  \n",
      "99985                       2212  50.826636  -0.161594  35   6  \n",
      "99986                       1272  50.824463  -0.156142  35   6  \n",
      "99987                       1811  50.826661  -0.157277  35   6  \n",
      "99988                       1755  50.826355  -0.156891  35   6  \n",
      "99989                       1905  50.826222  -0.156442  35   6  \n",
      "9999                        2932  57.669676  -2.962652  22  31  \n",
      "99990                       2061  50.826268  -0.155972  35   6  \n",
      "99991                       1531  50.826251  -0.155433  35   6  \n",
      "99992                       1626  50.826041  -0.155044  35   6  \n",
      "99993                       2045  50.827150  -0.155397  35   6  \n",
      "99994                       3110  50.825543  -0.159039  35   6  \n",
      "99995                       2280  50.825389  -0.158406  35   6  \n",
      "99996                       2238  50.825306  -0.159361  35   6  \n",
      "99997                       2633  50.824638  -0.159827  35   6  \n",
      "99998                       2288  50.823996  -0.160136  35   6  \n",
      "99999                       2142  50.823718  -0.158287  35   6  \n",
      "\n",
      "[497948 rows x 9 columns]\n"
     ]
    }
   ],
   "source": [
    "# Sunlight\n",
    "demand_df = pd.read_json('data/consumption-P1.json')\n",
    "print(demand_df)\n"
   ]
  },
  {
   "cell_type": "code",
   "execution_count": null,
   "metadata": {},
   "outputs": [],
   "source": []
  },
  {
   "cell_type": "code",
   "execution_count": null,
   "metadata": {},
   "outputs": [],
   "source": [
    "# Priorities\n",
    "## Farm Land"
   ]
  },
  {
   "cell_type": "code",
   "execution_count": null,
   "metadata": {},
   "outputs": [],
   "source": [
    "# Costs\n",
    "## Land Prices\n",
    "\n",
    "## Slider to allow you to set Rent Prices\n",
    "\n",
    "## Calculation to Pay Back"
   ]
  },
  {
   "cell_type": "code",
   "execution_count": null,
   "metadata": {},
   "outputs": [],
   "source": [
    "# Visualise tiles\n",
    "\n"
   ]
  },
  {
   "cell_type": "code",
   "execution_count": null,
   "metadata": {},
   "outputs": [],
   "source": [
    "# Array with two arrays of two floats. X,Y from top left. X,Y from bottom right\n",
    "# Bounds"
   ]
  }
 ],
 "metadata": {
  "kernelspec": {
   "display_name": "Python 3",
   "language": "python",
   "name": "python3"
  },
  "language_info": {
   "codemirror_mode": {
    "name": "ipython",
    "version": 3
   },
   "file_extension": ".py",
   "mimetype": "text/x-python",
   "name": "python",
   "nbconvert_exporter": "python",
   "pygments_lexer": "ipython3",
   "version": "3.6.7"
  }
 },
 "nbformat": 4,
 "nbformat_minor": 2
}
