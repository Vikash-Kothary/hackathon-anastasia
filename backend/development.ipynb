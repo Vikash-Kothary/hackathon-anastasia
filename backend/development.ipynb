{
 "cells": [
  {
   "cell_type": "code",
   "execution_count": 1,
   "metadata": {},
   "outputs": [],
   "source": [
    "import json\n",
    "import requests\n",
    "import pandas as pd\n",
    "from pprint import pprint\n",
    "from pvlive_api import PVLive"
   ]
  },
  {
   "cell_type": "code",
   "execution_count": 2,
   "metadata": {
    "scrolled": true
   },
   "outputs": [],
   "source": [
    "df = pd.read_csv('data/consumption2017-P1.csv')\n",
    "consumption_df = df[list(map(lambda x: len(x)>4,df.POSTCODE))]\n",
    "consumption_postcodes = list(consumption_df[:100]['POSTCODE'])\n",
    "assert consumption_postcodes is not None"
   ]
  },
  {
   "cell_type": "code",
   "execution_count": 3,
   "metadata": {},
   "outputs": [],
   "source": [
    "payload = dict(postcodes=consumption_postcodes)\n",
    "assert payload is not None"
   ]
  },
  {
   "cell_type": "code",
   "execution_count": 4,
   "metadata": {},
   "outputs": [],
   "source": [
    "result = requests.post('https://api.postcodes.io/postcodes', data=payload).json()\n",
    "assert result['status'] is 200\n",
    "results = result['result'];"
   ]
  },
  {
   "cell_type": "code",
   "execution_count": 5,
   "metadata": {},
   "outputs": [],
   "source": [
    "postcodes = []\n",
    "for result in results:\n",
    "    postcodes.append({'POSTCODE':result['result']['postcode'],'Longitude':result['result']['longitude'],'Latitude':result['result']['latitude']})\n",
    "    \n",
    "postcodes_df = pd.DataFrame(postcodes)"
   ]
  },
  {
   "cell_type": "code",
   "execution_count": 6,
   "metadata": {},
   "outputs": [
    {
     "data": {
      "text/html": [
       "<div>\n",
       "<style scoped>\n",
       "    .dataframe tbody tr th:only-of-type {\n",
       "        vertical-align: middle;\n",
       "    }\n",
       "\n",
       "    .dataframe tbody tr th {\n",
       "        vertical-align: top;\n",
       "    }\n",
       "\n",
       "    .dataframe thead th {\n",
       "        text-align: right;\n",
       "    }\n",
       "</style>\n",
       "<table border=\"1\" class=\"dataframe\">\n",
       "  <thead>\n",
       "    <tr style=\"text-align: right;\">\n",
       "      <th></th>\n",
       "      <th>Number of meters</th>\n",
       "      <th>Consumption (kWh)</th>\n",
       "      <th>Mean consumption (kWh)</th>\n",
       "      <th>Median consumption (kWh)</th>\n",
       "      <th>Latitude</th>\n",
       "      <th>Longitude</th>\n",
       "    </tr>\n",
       "    <tr>\n",
       "      <th>POSTCODE</th>\n",
       "      <th></th>\n",
       "      <th></th>\n",
       "      <th></th>\n",
       "      <th></th>\n",
       "      <th></th>\n",
       "      <th></th>\n",
       "    </tr>\n",
       "  </thead>\n",
       "  <tbody>\n",
       "    <tr>\n",
       "      <th>AB10 1AU</th>\n",
       "      <td>27</td>\n",
       "      <td>77026</td>\n",
       "      <td>2853</td>\n",
       "      <td>1109</td>\n",
       "      <td>57.147740</td>\n",
       "      <td>-2.096323</td>\n",
       "    </tr>\n",
       "    <tr>\n",
       "      <th>AB10 1BA</th>\n",
       "      <td>32</td>\n",
       "      <td>52728</td>\n",
       "      <td>1648</td>\n",
       "      <td>1191</td>\n",
       "      <td>57.148807</td>\n",
       "      <td>-2.098706</td>\n",
       "    </tr>\n",
       "    <tr>\n",
       "      <th>AB10 1BB</th>\n",
       "      <td>6</td>\n",
       "      <td>17118</td>\n",
       "      <td>2853</td>\n",
       "      <td>2915</td>\n",
       "      <td>57.147191</td>\n",
       "      <td>-2.097115</td>\n",
       "    </tr>\n",
       "    <tr>\n",
       "      <th>AB10 1FG</th>\n",
       "      <td>24</td>\n",
       "      <td>70820</td>\n",
       "      <td>2951</td>\n",
       "      <td>2075</td>\n",
       "      <td>57.149841</td>\n",
       "      <td>-2.097634</td>\n",
       "    </tr>\n",
       "    <tr>\n",
       "      <th>AB10 1FL</th>\n",
       "      <td>29</td>\n",
       "      <td>129485</td>\n",
       "      <td>4465</td>\n",
       "      <td>4080</td>\n",
       "      <td>57.150190</td>\n",
       "      <td>-2.096868</td>\n",
       "    </tr>\n",
       "  </tbody>\n",
       "</table>\n",
       "</div>"
      ],
      "text/plain": [
       "          Number of meters  Consumption (kWh)  Mean consumption (kWh)  \\\n",
       "POSTCODE                                                                \n",
       "AB10 1AU                27              77026                    2853   \n",
       "AB10 1BA                32              52728                    1648   \n",
       "AB10 1BB                 6              17118                    2853   \n",
       "AB10 1FG                24              70820                    2951   \n",
       "AB10 1FL                29             129485                    4465   \n",
       "\n",
       "          Median consumption (kWh)   Latitude  Longitude  \n",
       "POSTCODE                                                  \n",
       "AB10 1AU                      1109  57.147740  -2.096323  \n",
       "AB10 1BA                      1191  57.148807  -2.098706  \n",
       "AB10 1BB                      2915  57.147191  -2.097115  \n",
       "AB10 1FG                      2075  57.149841  -2.097634  \n",
       "AB10 1FL                      4080  57.150190  -2.096868  "
      ]
     },
     "execution_count": 6,
     "metadata": {},
     "output_type": "execute_result"
    }
   ],
   "source": [
    "df.set_index('POSTCODE').join(postcodes_df.set_index('POSTCODE')).dropna().head()"
   ]
  },
  {
   "cell_type": "code",
   "execution_count": 7,
   "metadata": {},
   "outputs": [
    {
     "data": {
      "text/plain": [
       "(0, '2019-05-17T20:30:00Z', 1.07)"
      ]
     },
     "execution_count": 7,
     "metadata": {},
     "output_type": "execute_result"
    }
   ],
   "source": [
    "pv = PVLive()\n",
    "pv.latest()"
   ]
  }
 ],
 "metadata": {
  "kernelspec": {
   "display_name": "Python 3",
   "language": "python",
   "name": "python3"
  },
  "language_info": {
   "codemirror_mode": {
    "name": "ipython",
    "version": 3
   },
   "file_extension": ".py",
   "mimetype": "text/x-python",
   "name": "python",
   "nbconvert_exporter": "python",
   "pygments_lexer": "ipython3",
   "version": "3.6.7"
  }
 },
 "nbformat": 4,
 "nbformat_minor": 2
}
